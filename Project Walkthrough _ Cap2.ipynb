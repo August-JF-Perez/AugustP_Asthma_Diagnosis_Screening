{
 "cells": [
  {
   "cell_type": "markdown",
   "id": "05177832-fbb0-408e-bc35-67332d1cae87",
   "metadata": {},
   "source": [
    "# Asthma Prediction Model\n",
    "August J.F. Perez\n",
    "\n",
    "Capstone 2 Project"
   ]
  },
  {
   "cell_type": "markdown",
   "id": "deb57b76-ea5e-4cbb-8f03-ff68d2a01d47",
   "metadata": {},
   "source": [
    "## Purpose, motivation, and description"
   ]
  },
  {
   "cell_type": "markdown",
   "id": "db5d4d16-ffe4-42fd-a027-e9a6a0c286e3",
   "metadata": {},
   "source": [
    "### Purpose\n",
    "What problem is being solved"
   ]
  },
  {
   "cell_type": "markdown",
   "id": "abd1f25c-42f4-4069-8883-ce4773cbee4c",
   "metadata": {},
   "source": [
    "Build a pre-screening tool to identify patients who would have a high probability for an asthma diagnosis\n",
    "\n",
    "Focus on maximizing sensitivity (recall)"
   ]
  },
  {
   "cell_type": "markdown",
   "id": "9fe16120-2d06-4cea-8e45-cdd5ce57b9ca",
   "metadata": {},
   "source": [
    "### Motivation\n",
    "Why is the problem important"
   ]
  },
  {
   "cell_type": "markdown",
   "id": "47dc7647-676a-4e6e-a634-2d20d51401aa",
   "metadata": {},
   "source": [
    "- The healthcare system is barely able to keep up & often lags behind patient needs.\n",
    "- Large practices or hospitals can't prioritize screening as much as it would be helpful\n",
    "- A screening test for asthma would assist physicians in allocating their time and efforts more effectively. In addition, unnecessary use of resources could be prevented or reduced\n",
    "- By reducing the time and effort needed in identifying patients who might benefit from an asthma diagnosis, or waiting for patients to approach their doctor themselves, more time can be spent focusing on other tasks that require a physician's attentions"
   ]
  },
  {
   "cell_type": "markdown",
   "id": "9718d934-7858-4fbd-9a8a-c8dbc0fc4748",
   "metadata": {},
   "source": [
    "____\n",
    "### Target Feature"
   ]
  },
  {
   "cell_type": "markdown",
   "id": "331633b1-b972-4945-b842-22a206413a19",
   "metadata": {},
   "source": [
    "- Asthma Diagnosis\n",
    "    - Binary"
   ]
  },
  {
   "cell_type": "markdown",
   "id": "ef99ac03-c409-4150-98eb-25ab5880d8e2",
   "metadata": {},
   "source": [
    "____\n",
    "### Model"
   ]
  },
  {
   "cell_type": "markdown",
   "id": "0749e57d-6f3a-40cb-ae7f-f659a92f2ce8",
   "metadata": {},
   "source": [
    "AdaBoost using Logistic Regression\n",
    "\n",
    "    'learning_rate': 0.1\n",
    "    \n",
    "    LogisticRegression(class_weight='balanced', max_iter=500, solver='liblinear')\n",
    "\n",
    "Recall: 46%"
   ]
  },
  {
   "cell_type": "markdown",
   "id": "95169aaf-b62d-4b65-9ea1-5ee3c2ac3de4",
   "metadata": {},
   "source": [
    "## Data Acquisition"
   ]
  },
  {
   "cell_type": "markdown",
   "id": "03b38142-434f-4049-a6ab-d6fc701c951f",
   "metadata": {},
   "source": [
    "Source: Kaggle 🌬️ Asthma Disease Dataset 🌬️\n",
    "\n",
    "https://www.kaggle.com/datasets/rabieelkharoua/asthma-disease-dataset?resource=download\n",
    "\n",
    "Downloaded as a CSV and read into a pandas dataframe"
   ]
  },
  {
   "cell_type": "markdown",
   "id": "2820fa7b-19a4-429c-a52b-e848b83bf6ba",
   "metadata": {},
   "source": [
    "## Data Management"
   ]
  },
  {
   "cell_type": "markdown",
   "id": "6b634b34-593a-474f-b122-1a7678ee3ad1",
   "metadata": {},
   "source": [
    "- Format: CSV\n",
    "- Amount of data (rows): 2392\n",
    "- Processing: pandas pd.reqad_csv()"
   ]
  },
  {
   "cell_type": "markdown",
   "id": "340c647f-2ea1-4e56-a1fb-22e7f3a8c286",
   "metadata": {},
   "source": [
    "## Cleaning"
   ]
  },
  {
   "cell_type": "markdown",
   "id": "abc1b737-896e-4b8a-9684-9ee2bff10301",
   "metadata": {},
   "source": [
    "- Initially clean dataset\n",
    "    - I performed checks and found no problems\n",
    "- each observation is a row, each variable is a col\n",
    "- No nulls\n",
    "- Feature labels make sense\n",
    "- Check dtypes\n",
    "- No Outliers\n",
    "- No skewed distributions\n",
    "    - Except asthma diagnosis target feature\n",
    "        - SMOTE used in training split\n",
    "        - Test data not artifically balanced\n",
    "- Checked expected count of unique values for each feature\n",
    "- Value ranges make sense for non-categorical features\n",
    "\n",
    "\n",
    "- Dropped 'patient id' & 'doctor in charge' features"
   ]
  },
  {
   "cell_type": "markdown",
   "id": "80ad4e97-a65c-431e-afb5-232fb690ec3f",
   "metadata": {},
   "source": [
    "____\n",
    "### Engineered Features\n",
    "& their input features"
   ]
  },
  {
   "cell_type": "markdown",
   "id": "c228e1eb-43b3-462d-81a2-5f8cc93988dc",
   "metadata": {},
   "source": [
    "- lifequality\n",
    "    - (Method: Mean)\n",
    "    - physical activity\n",
    "    - diet quality\n",
    "    - sleep quality\n",
    "- exposure_count\n",
    "    - (Method: Mean)\n",
    "    - pollution exposure\n",
    "    - pollen exposure\n",
    "    - dust exposure\n",
    "    - smoking\n",
    "- lungfunction\n",
    "    - (Method: Division)\n",
    "    - lung function fev1\n",
    "    - lung function fvc\n",
    "- allergy_count\n",
    "    - (Method: Sum)\n",
    "    - pet allergy\n",
    "    - history of allergies\n",
    "    - eczema\n",
    "    - hay fever\n",
    "- symptom_count\n",
    "    - (Method: Sum)\n",
    "    - gastroesophageal reflux\n",
    "    - wheezing\n",
    "    - shortness of breath\n",
    "    - chest tightness\n",
    "    - coughing\n",
    "    - nighttime symptoms\n",
    "    - exercise induced"
   ]
  },
  {
   "cell_type": "markdown",
   "id": "3cce3a4d-573a-4ed3-86fa-dc647263c6ac",
   "metadata": {},
   "source": [
    "## EDA\n",
    "\n",
    "Began looking at all features to investigate whether any popped out at interesting to investigate further\n",
    "\n",
    "    No single feature stood out from the rest"
   ]
  },
  {
   "cell_type": "markdown",
   "id": "6a0bed12-d507-4417-81f8-8056070e7df2",
   "metadata": {},
   "source": [
    "numerical features: (count: 10)\n",
    "\n",
    "'age', 'bmi', 'physicalactivity', 'dietquality', 'sleepquality', 'pollutionexposure', 'pollenexposure', 'dustexposure', 'lungfunctionfev1', 'lungfunctionfvc'"
   ]
  },
  {
   "cell_type": "markdown",
   "id": "990671d3-c828-4a5e-8cca-85b05788f158",
   "metadata": {},
   "source": [
    "Categorical features (count: 17) (includes target features 'diagnosis')\n",
    "- All binary 0 or 1\n",
    "\n",
    "'gender', 'ethnicity', 'educationlevel', 'smoking', 'petallergy', 'familyhistoryasthma', 'historyofallergies', 'eczema', 'hayfever', 'gastroesophagealreflux', 'wheezing', 'shortnessofbreath', 'chesttightness', 'coughing', 'nighttimesymptoms', 'exerciseinduced', 'diagnosis'"
   ]
  },
  {
   "cell_type": "markdown",
   "id": "a309ee17-20ad-41f1-bd79-71cc6064b4df",
   "metadata": {},
   "source": [
    "### Distribution analysis\n",
    "\n",
    "Inspected histograms of\n",
    "- each feature\n",
    "- each feature split by target feature (0 or 1 for diagnosis)"
   ]
  },
  {
   "cell_type": "markdown",
   "id": "287434c0-2069-4bd9-9cc6-ef2b53895f01",
   "metadata": {},
   "source": [
    "**Categorical col Comparitive distribution takeaways:**\n",
    "\n",
    "- Many fewer samples for diagnosis=1 than diagnosis=0\n",
    "- Presence of symptoms has potential for use in asthma prediction, diagnosis=1 mostly shows symptoms being present more often than not\n",
    "    - Kind of expected since diagnosis is usually based on symptoms\n",
    "- Other cols (non-symptoms) are not showing me a clear difference between diagnosis 0 or 1"
   ]
  },
  {
   "cell_type": "markdown",
   "id": "2243bf93-d1c2-4f93-bef6-f72d0f22520c",
   "metadata": {},
   "source": [
    "**Numerical cols Distributions**\n",
    "\n",
    "Overall flat, even when split by diagnosis"
   ]
  },
  {
   "cell_type": "markdown",
   "id": "6ed14bb5-4a76-4e76-ac99-23b3cea5cbe0",
   "metadata": {},
   "source": [
    "### Inter-feature relationships"
   ]
  },
  {
   "cell_type": "markdown",
   "id": "9586b1a8-47e1-4636-980a-570d9e08921c",
   "metadata": {},
   "source": [
    "heatmap & pairplot used\n",
    "\n",
    "- heatmap findings:\n",
    "    - No inter-feature correlation above 0.1 (0.065 was highest value discovered)\n",
    "- pairplot findings\n",
    "    - no inter-feature correlations/relationships shown\n",
    "        - even to target feature\n",
    "    - Color coded by diagnosis"
   ]
  },
  {
   "cell_type": "markdown",
   "id": "9ffa75a0-1a4a-4d22-ae89-8fc4163c21b6",
   "metadata": {},
   "source": [
    "#### Extra Info:\n",
    "**Relationships between each feature & target**\n",
    "\n",
    "- Continuous cols:\n",
    "    - No feature shows a true relationship between a lower, middle, or upper range and a diagnosis=1\n",
    "    -  lungfunctionfev1 & lungfunctionfvc both show a potential that a higher value may correlate with a diagnosis=1, this appears to be a week relationship at current investigative stages\n",
    "    -  dustexposure seems to correlate to diagnosis=1 with lower values\n",
    "        - I would have originally expected higher values to correlate\n",
    "- Categorical cols:\n",
    "    - All cat cols except those listed below have distributions that are a very close match between diagnosis=0 & =1\n",
    "    - Cat cols with non matching distributions between diagnosis= 0 or 1 & notes\n",
    "        - shortnessofbreath: fewer shortnessofbreath=1 than =0 where diag=1 (where diag=0, ratio between shortnessofbreath=0 or 1 was just about equal)\n",
    "        -  chesttightness: fewer chesttightness=1 than =0 where diag=1 (where diag=0, ratio between chesttightness=0 or 1 was just about equal)\n",
    "        -  coughing: fewer coughing=1 than =0 where diag=1 (where diag=0, ratio between coughing=0 or 1 was just about equal)"
   ]
  },
  {
   "cell_type": "markdown",
   "id": "592fd7a4-6cba-473b-a37a-5b22ef180e99",
   "metadata": {},
   "source": [
    "### Feature Selection"
   ]
  },
  {
   "cell_type": "markdown",
   "id": "8b7dd7fd-2536-4360-bfa3-c078f5f20603",
   "metadata": {},
   "source": [
    "All features where included in the model as there were none that stood out at better or worse candidates"
   ]
  },
  {
   "cell_type": "markdown",
   "id": "f5f158ba-b4f0-4473-8ca7-457f6d87e4f8",
   "metadata": {},
   "source": [
    "## Modeling"
   ]
  },
  {
   "cell_type": "markdown",
   "id": "209219d1-52bd-4ac3-be1d-efadccede3df",
   "metadata": {},
   "source": [
    "**Models Used:**\n",
    "- DummyClassifier (for comparison to other models) (38% recall)\n",
    "- Decision Tree (3% recall)\n",
    "- Random Forest (0% recall)\n",
    "- KNN (12% recall)\n",
    "- Logistic Regression (45% recall)\n",
    "- Gradient Boosting (Decision Tree) (6% recall)\n",
    "- AdaBoost classifier (Logistic Regression) (45% recall before optimizing) (46% recall after optimizing)"
   ]
  },
  {
   "cell_type": "markdown",
   "id": "7abd4835-6e49-43ee-ba49-e6df84b45927",
   "metadata": {},
   "source": [
    "### Evaluation"
   ]
  },
  {
   "cell_type": "markdown",
   "id": "ae06988c-a744-462f-a545-616e592e4ba7",
   "metadata": {},
   "source": [
    "**Primary target score: Recall**\n",
    "\n",
    "Other scores noted but weighed little in final evaluations\n",
    "\n",
    "    accuracy, precision, f1-score"
   ]
  },
  {
   "cell_type": "markdown",
   "id": "bbd9face-8122-4859-bbf9-7c73daf55f39",
   "metadata": {},
   "source": [
    "____\n",
    "Training and test splits were performed\n",
    "\n",
    "The training set was balanced using SMOTE for diagnosis=1\n",
    "- Imbalance was 1703 records for diagnosis=0 & 91 records for diagnosis=1\n",
    "- Balanced to equal number of records each\n",
    "____"
   ]
  },
  {
   "cell_type": "markdown",
   "id": "4aab4eb8-a49a-4303-af64-8cf394e33a70",
   "metadata": {},
   "source": []
  },
  {
   "cell_type": "markdown",
   "id": "6c2ddf9f-b9f0-40ff-8a41-a3e89c4eb18e",
   "metadata": {},
   "source": []
  },
  {
   "cell_type": "markdown",
   "id": "b165c3b4-71fa-4faa-8862-e6a7fd2a1f9d",
   "metadata": {},
   "source": []
  },
  {
   "cell_type": "markdown",
   "id": "b9f492f1-1f77-4c87-86f1-1b06b1952d3e",
   "metadata": {},
   "source": []
  },
  {
   "cell_type": "markdown",
   "id": "cf1d6836-f28e-42e9-bb5b-2721d8822290",
   "metadata": {},
   "source": []
  },
  {
   "cell_type": "markdown",
   "id": "f767ad48-d9b6-4e74-a362-10642eb9a3bb",
   "metadata": {},
   "source": []
  },
  {
   "cell_type": "markdown",
   "id": "9540b174-c3d1-446c-bca0-289c7dab5fbf",
   "metadata": {},
   "source": []
  },
  {
   "cell_type": "markdown",
   "id": "a1b188f0-fe09-4d33-843e-c53319db1c9f",
   "metadata": {},
   "source": []
  },
  {
   "cell_type": "markdown",
   "id": "96cc9a78-adcd-4648-9dbd-a2cdf64e99c2",
   "metadata": {},
   "source": []
  },
  {
   "cell_type": "markdown",
   "id": "53bebb7a-f737-40e5-8525-bcaf658ad7f8",
   "metadata": {},
   "source": []
  },
  {
   "cell_type": "markdown",
   "id": "7d6e0652-d11c-4fc5-818e-de1b7f8d4b80",
   "metadata": {},
   "source": []
  },
  {
   "cell_type": "markdown",
   "id": "87d50380-34af-42a1-b81e-082823f7bace",
   "metadata": {},
   "source": []
  }
 ],
 "metadata": {
  "kernelspec": {
   "display_name": "Python 3 (ipykernel)",
   "language": "python",
   "name": "python3"
  },
  "language_info": {
   "codemirror_mode": {
    "name": "ipython",
    "version": 3
   },
   "file_extension": ".py",
   "mimetype": "text/x-python",
   "name": "python",
   "nbconvert_exporter": "python",
   "pygments_lexer": "ipython3",
   "version": "3.12.3"
  }
 },
 "nbformat": 4,
 "nbformat_minor": 5
}
